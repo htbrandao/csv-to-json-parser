{
 "cells": [
  {
   "cell_type": "code",
   "execution_count": 2,
   "metadata": {},
   "outputs": [
    {
     "name": "stderr",
     "output_type": "stream",
     "text": [
      "/usr/lib/python3/dist-packages/requests/__init__.py:80: RequestsDependencyWarning: urllib3 (1.25.6) or chardet (3.0.4) doesn't match a supported version!\n",
      "  RequestsDependencyWarning)\n"
     ]
    }
   ],
   "source": [
    "import json\n",
    "import os\n",
    "import logging\n",
    "from time import sleep, time\n",
    "import pandas as pd\n",
    "import csv\n",
    "from elasticsearch import Elasticsearch, ElasticsearchException, helpers"
   ]
  },
  {
   "cell_type": "code",
   "execution_count": 3,
   "metadata": {},
   "outputs": [],
   "source": [
    "# ==================================================================== #\n",
    "# functions\n",
    "# ==================================================================== #\n",
    "\n",
    "def logger(name: str):\n",
    "    logger = logging.getLogger(name)\n",
    "    logger.setLevel(logging.INFO)\n",
    "    handler = logging.StreamHandler()\n",
    "    formatter = logging.Formatter('%(levelname)s %(asctime)s %(name)s %(message)s')\n",
    "    handler.setFormatter(formatter)\n",
    "    logger.addHandler(handler)\n",
    "    return logger\n",
    "\n",
    "def load_csv(filepath: str, delimiter: str, header='infer', encoding='utf-8'):\n",
    "    return pd.read_csv(filepath, delimiter=delimiter, header=header, encoding=encoding)   \n",
    "\n",
    "def find_ids(df, id_column: str):\n",
    "    return list(set(df[id_column]))\n",
    "\n",
    "def id_count(df, id_column: str):\n",
    "    return len(list(set(df[id_column])))\n",
    "\n",
    "def single_id_df(df, id_column: str, id_value: any):\n",
    "    return df[df[id_column] == id_value]\n",
    "\n",
    "def extract_features_by_category(single_id_df, category: str, related_features: list):\n",
    "    lc = [ [str(reg[i]).rstrip().lower() for i in range(len(reg)) ] \n",
    "          for reg in single_id_df[single_id_df['TIPO'] == category][related_features].values ]\n",
    "    related_features = [feat.lower() for feat in related_features]\n",
    "    out = []\n",
    "    for reg in lc:\n",
    "        out.append(dict(zip(related_features, reg)))\n",
    "    category_key = category.lower()\n",
    "    category_dict = {category_key: out}\n",
    "    return category_dict\n",
    "\n",
    "def curriculum_json_generator(df, field_map: dict, id_column: str, outter_key: str):\n",
    "    id_list = find_ids(df=df, id_column=id_column)\n",
    "#     logger.info('Found \\'{}\\' units on \\'{}\\' to process'.format(len(id_list), id_column))\n",
    "    out = []\n",
    "    for f_id in id_list:\n",
    "        f_info = {'matricula': str(f_id), outter_key: {} }\n",
    "        f_df = single_id_df(df=df, id_column=id_column, id_value=f_id)\n",
    "        for key in field_map.keys():\n",
    "            try:\n",
    "                f_info[outter_key][key.lower()] = extract_features_by_category(single_id_df=f_df, category=key, related_features=field_map[key])[key.lower()]\n",
    "            except:\n",
    "#                 logger.error('id: \\'{}\\' key: \\'{}\\''.format(f_id, key))\n",
    "                print('error')\n",
    "        out.append(f_info)\n",
    "#     logger.info('Generated: \\'{}\\'. Delta: \\'{}\\''.format(len(out), len(out)-len(id_list)))\n",
    "    return out\n",
    "\n",
    "\n",
    "\n",
    "def elastic_bulk_index (index: str, docType: str, data: list, elastic, _id_key: str):\n",
    "    bulk = []\n",
    "    for reg in data:\n",
    "        k = reg[_id_key]\n",
    "        bulk.append({\"_index\": index, \"_type\": docType, \"_id\": k, \"_source\": reg})\n",
    "    return helpers.bulk(client=elastic, actions=bulk)[0]\n",
    "\n",
    "def sentRate(total: int, good: int):\n",
    "    acc = 100.0 - ( (total - good)/total)\n",
    "#     logger.info('Delivery rate {}%'.format(acc))\n",
    "    return acc"
   ]
  },
  {
   "cell_type": "code",
   "execution_count": 18,
   "metadata": {},
   "outputs": [],
   "source": [
    "config = {\"loggername\" : \"people_analytics\",\n",
    "\"csv_file\" : \"/home/f4119597/Downloads/temp-master/res_final_query_all.csv\",\n",
    "\"csv_file_delimiter\" : \";\",\n",
    "\"csv_reader_encoding\" : \"utf-8\",\n",
    "\"elastic_hosts\" : [\"localhost:9200\"],\n",
    "\"es_index\" : \"people_analytics\",\n",
    "\"es_doc_type\" : \"curriculo\",\n",
    "\"es_id_key\" : \"matricula\",\n",
    "\"id_column\" : \"MATRICULA_FUNCIONARIO\",\n",
    "\"outter_key\" : \"curriculo\",\n",
    "\"mapping\" : {\n",
    "    \"CAPACIDADE\": [\"NOME\", \"ATIVO\", \"CODIGO\"],\n",
    "    \"CONHECIMENTO\": [\"NOME\", \"CODIGO\", \"NIVEL\", \"CODIGO_AREA\", \"CODIGO_SUB_AREA\"],\n",
    "    \"FERRAMENTA\": [\"NOME\", \"CODIGO\", \"ATIVO\"],\n",
    "    \"INTERESSE\": [\"NOME\", \"CODIGO\"],\n",
    "    \"MOTIVACAO\": [\"NOME\", \"CODIGO\"],\n",
    "    \"REALIZACAO\": [\"NOME\", \"CODIGO\"],\n",
    "    \"FORMACAO_SUPERIOR\": [\"NOME\", \"CODIGO\", \"NIVEL\", \"DATA_FIM\", \"MODALIDADE\", \"NATUREZA\", \"URL\", \"ESTADO\", \"NOME_INSTITUICAO_ENSINO\"]\n",
    "    }\n",
    "}\n"
   ]
  },
  {
   "cell_type": "code",
   "execution_count": 19,
   "metadata": {},
   "outputs": [],
   "source": [
    "# ==================================================================== #\n",
    "# global variables\n",
    "# ==================================================================== #\n",
    "\n",
    "loggername = config['loggername']\n",
    "\n",
    "csv_file = config['csv_file']\n",
    "csv_file_delimiter = config['csv_file_delimiter']\n",
    "csv_reader_encoding = config['csv_reader_encoding']\n",
    "\n",
    "elastic_hosts = config['elastic_hosts']\n",
    "es_index = config['es_index']\n",
    "es_doc_type = config['es_doc_type']\n",
    "es_id_key = config['es_id_key']\n",
    "\n",
    "mapping = config['mapping']\n",
    "\n",
    "id_column = config['id_column']\n",
    "outter_key = config['outter_key']"
   ]
  },
  {
   "cell_type": "code",
   "execution_count": 20,
   "metadata": {},
   "outputs": [],
   "source": [
    "# json.load('config.json')"
   ]
  },
  {
   "cell_type": "code",
   "execution_count": 21,
   "metadata": {},
   "outputs": [],
   "source": [
    "# logger = logger(loggername)\n",
    "# logger.info('START PROCESS')"
   ]
  },
  {
   "cell_type": "code",
   "execution_count": 22,
   "metadata": {},
   "outputs": [],
   "source": [
    "ts1 = time()\n",
    "es = Elasticsearch(hosts=elastic_hosts)"
   ]
  },
  {
   "cell_type": "code",
   "execution_count": 23,
   "metadata": {},
   "outputs": [
    {
     "name": "stderr",
     "output_type": "stream",
     "text": [
      "/home/f4119597/.local/lib/python3.6/site-packages/IPython/core/interactiveshell.py:3249: DtypeWarning: Columns (0,2,4,5,6,7,8,11,12,14,15) have mixed types. Specify dtype option on import or set low_memory=False.\n",
      "  if (await self.run_code(code, result,  async_=asy)):\n"
     ]
    }
   ],
   "source": [
    "df = load_csv(filepath=csv_file, delimiter=csv_file_delimiter, header='infer', encoding=csv_reader_encoding)"
   ]
  },
  {
   "cell_type": "code",
   "execution_count": 25,
   "metadata": {},
   "outputs": [],
   "source": [
    "obj = curriculum_json_generator(df=df, field_map=mapping, id_column=id_column, outter_key=outter_key)"
   ]
  },
  {
   "cell_type": "code",
   "execution_count": 51,
   "metadata": {},
   "outputs": [
    {
     "ename": "BulkIndexError",
     "evalue": "('1 document(s) failed to index.', [{'index': {'_index': 'people_analytics', '_type': 'curriculo', '_id': '2384107', 'status': 400, 'error': {'type': 'mapper_parsing_exception', 'reason': \"failed to parse field [curriculo.formacao_superior.data_fim] of type [date] in document with id '2384107'. Preview of field's value: 'nan'\", 'caused_by': {'type': 'illegal_argument_exception', 'reason': 'failed to parse date field [nan] with format [strict_date_optional_time||epoch_millis]', 'caused_by': {'type': 'date_time_parse_exception', 'reason': 'Failed to parse with all enclosed parsers'}}}, 'data': {'matricula': '2384107', 'curriculo': {'capacidade': [], 'conhecimento': [{'nome': 'teoria geral da administração', 'codigo': '100010001', 'nivel': '1', 'codigo_area': '10', 'codigo_sub_area': '1'}, {'nome': 'empreendedorismo', 'codigo': '100010003', 'nivel': '1', 'codigo_area': '10', 'codigo_sub_area': '1'}, {'nome': 'gestao empresarial', 'codigo': '100010004', 'nivel': '3', 'codigo_area': '10', 'codigo_sub_area': '1'}, {'nome': 'gestao empresarial', 'codigo': '100010010', 'nivel': '1', 'codigo_area': '10', 'codigo_sub_area': '1'}, {'nome': 'conformidade e controles internos', 'codigo': '100010021', 'nivel': '3', 'codigo_area': '10', 'codigo_sub_area': '1'}, {'nome': 'cronoanalise', 'codigo': '100010035', 'nivel': '1', 'codigo_area': '10', 'codigo_sub_area': '1'}, {'nome': 'atendimento bancario', 'codigo': '100010040', 'nivel': '5', 'codigo_area': '10', 'codigo_sub_area': '1'}, {'nome': 'gestão financeira', 'codigo': '100600010', 'nivel': '1', 'codigo_area': '10', 'codigo_sub_area': '60'}, {'nome': 'credito e cobranca', 'codigo': '100600020', 'nivel': '1', 'codigo_area': '10', 'codigo_sub_area': '60'}, {'nome': 'gestão do crédito', 'codigo': '100600030', 'nivel': '3', 'codigo_area': '10', 'codigo_sub_area': '60'}, {'nome': 'gestao de risco', 'codigo': '100600041', 'nivel': '1', 'codigo_area': '10', 'codigo_sub_area': '60'}, {'nome': 'investimentos financeiros', 'codigo': '100600120', 'nivel': '1', 'codigo_area': '10', 'codigo_sub_area': '60'}, {'nome': 'informacao cadastral', 'codigo': '100900020', 'nivel': '1', 'codigo_area': '10', 'codigo_sub_area': '90'}, {'nome': 'fundamentos em gestão de pessoas', 'codigo': '101000001', 'nivel': '1', 'codigo_area': '10', 'codigo_sub_area': '100'}, {'nome': 'gestão de pessoas', 'codigo': '101000002', 'nivel': '1', 'codigo_area': '10', 'codigo_sub_area': '100'}, {'nome': 'treinamento e desenvolvimento', 'codigo': '101000010', 'nivel': '1', 'codigo_area': '10', 'codigo_sub_area': '100'}, {'nome': 'avaliacao de desempenho', 'codigo': '101000030', 'nivel': '1', 'codigo_area': '10', 'codigo_sub_area': '100'}, {'nome': 'estilo de gestao', 'codigo': '101000070', 'nivel': '1', 'codigo_area': '10', 'codigo_sub_area': '100'}, {'nome': 'relacoes humanas', 'codigo': '101000090', 'nivel': '1', 'codigo_area': '10', 'codigo_sub_area': '100'}, {'nome': 'cultura organizacional', 'codigo': '101000091', 'nivel': '1', 'codigo_area': '10', 'codigo_sub_area': '100'}, {'nome': 'gestao empresarial em lideranca', 'codigo': '101000100', 'nivel': '1', 'codigo_area': '10', 'codigo_sub_area': '100'}, {'nome': 'responsabilidade socioambiental', 'codigo': '101100010', 'nivel': '1', 'codigo_area': '10', 'codigo_sub_area': '110'}, {'nome': 'adm. publica', 'codigo': '101600010', 'nivel': '3', 'codigo_area': '10', 'codigo_sub_area': '160'}, {'nome': 'negociacao e vendas', 'codigo': '102000181', 'nivel': '1', 'codigo_area': '10', 'codigo_sub_area': '200'}, {'nome': 'comportamento do consumidor', 'codigo': '102000230', 'nivel': '1', 'codigo_area': '10', 'codigo_sub_area': '200'}, {'nome': 'gestao pela excelencia', 'codigo': '102400012', 'nivel': '1', 'codigo_area': '10', 'codigo_sub_area': '240'}, {'nome': 'estrategia, estrutura e funcionamento do b.b.', 'codigo': '102800001', 'nivel': '1', 'codigo_area': '10', 'codigo_sub_area': '280'}, {'nome': 'gestao empresarial', 'codigo': '102800010', 'nivel': '1', 'codigo_area': '10', 'codigo_sub_area': '280'}, {'nome': 'seguranca bancaria', 'codigo': '103000001', 'nivel': '1', 'codigo_area': '10', 'codigo_sub_area': '300'}, {'nome': 'gestão de segurança', 'codigo': '103000002', 'nivel': '3', 'codigo_area': '10', 'codigo_sub_area': '300'}, {'nome': 'grafoscopia', 'codigo': '103000006', 'nivel': '1', 'codigo_area': '10', 'codigo_sub_area': '300'}, {'nome': 'seguranca patrimonial', 'codigo': '103000020', 'nivel': '1', 'codigo_area': '10', 'codigo_sub_area': '300'}, {'nome': 'ciencia da informacao', 'codigo': '250100010', 'nivel': '1', 'codigo_area': '25', 'codigo_sub_area': '10'}, {'nome': 'filosofia', 'codigo': '500200010', 'nivel': '1', 'codigo_area': '50', 'codigo_sub_area': '20'}, {'nome': 'historia', 'codigo': '500400000', 'nivel': '1', 'codigo_area': '50', 'codigo_sub_area': '40'}, {'nome': 'estudos sociais', 'codigo': '500700001', 'nivel': '1', 'codigo_area': '50', 'codigo_sub_area': '70'}, {'nome': 'desenvolvimento regional sustentavel', 'codigo': '501400001', 'nivel': '1', 'codigo_area': '50', 'codigo_sub_area': '140'}, {'nome': 'comunicacao', 'codigo': '700010001', 'nivel': '1', 'codigo_area': '70', 'codigo_sub_area': '1'}, {'nome': 'comunicacao escrita e revisao gramatical', 'codigo': '700010007', 'nivel': '1', 'codigo_area': '70', 'codigo_sub_area': '1'}, {'nome': 'lingua de sinais - libras', 'codigo': '700010015', 'nivel': '1', 'codigo_area': '70', 'codigo_sub_area': '1'}, {'nome': 'cerimonial, etiqueta e protocolo', 'codigo': '701800020', 'nivel': '1', 'codigo_area': '70', 'codigo_sub_area': '180'}, {'nome': 'direito', 'codigo': '900010001', 'nivel': '1', 'codigo_area': '90', 'codigo_sub_area': '1'}, {'nome': 'conhecimentos juridicos', 'codigo': '900010003', 'nivel': '3', 'codigo_area': '90', 'codigo_sub_area': '1'}, {'nome': 'direito tributario', 'codigo': '901400010', 'nivel': '1', 'codigo_area': '90', 'codigo_sub_area': '140'}, {'nome': 'direito penal', 'codigo': '901800000', 'nivel': '1', 'codigo_area': '90', 'codigo_sub_area': '180'}, {'nome': 'economia - microeconomia', 'codigo': '1000010010', 'nivel': '1', 'codigo_area': '100', 'codigo_sub_area': '1'}, {'nome': 'economia e finanças', 'codigo': '1000200010', 'nivel': '1', 'codigo_area': '100', 'codigo_sub_area': '20'}, {'nome': 'educacao empresarial', 'codigo': '1100010001', 'nivel': '1', 'codigo_area': '110', 'codigo_sub_area': '1'}, {'nome': 'armazenamento de dados, conceitos', 'codigo': '1600100010', 'nivel': '1', 'codigo_area': '160', 'codigo_sub_area': '10'}, {'nome': 'bi - business inteligence', 'codigo': '1600500030', 'nivel': '1', 'codigo_area': '160', 'codigo_sub_area': '50'}, {'nome': 'ciencia da computacao', 'codigo': '1601100010', 'nivel': '1', 'codigo_area': '160', 'codigo_sub_area': '110'}, {'nome': 'logica de programacao', 'codigo': '1601300040', 'nivel': '1', 'codigo_area': '160', 'codigo_sub_area': '130'}, {'nome': 'gerenciadores de bancos de dados, instal.e admin.', 'codigo': '1601900220', 'nivel': '1', 'codigo_area': '160', 'codigo_sub_area': '190'}, {'nome': 'itil - it infrastructure library', 'codigo': '1602500040', 'nivel': '1', 'codigo_area': '160', 'codigo_sub_area': '250'}, {'nome': 'gestao de projetos em tecnologia da informacao', 'codigo': '1602600000', 'nivel': '1', 'codigo_area': '160', 'codigo_sub_area': '260'}, {'nome': 'informatica construcao aplicativos', 'codigo': '1602900014', 'nivel': '1', 'codigo_area': '160', 'codigo_sub_area': '290'}, {'nome': 'informatica infraestrutura', 'codigo': '1602900015', 'nivel': '1', 'codigo_area': '160', 'codigo_sub_area': '290'}, {'nome': 'linguagem cobol', 'codigo': '1603200090', 'nivel': '1', 'codigo_area': '160', 'codigo_sub_area': '320'}, {'nome': 'linguagem jcl', 'codigo': '1603200190', 'nivel': '1', 'codigo_area': '160', 'codigo_sub_area': '320'}, {'nome': 'linguagem sql', 'codigo': '1603200350', 'nivel': '1', 'codigo_area': '160', 'codigo_sub_area': '320'}, {'nome': 'excel', 'codigo': '1608000050', 'nivel': '1', 'codigo_area': '160', 'codigo_sub_area': '800'}, {'nome': 'matematica financeira', 'codigo': '1800400010', 'nivel': '1', 'codigo_area': '180', 'codigo_sub_area': '40'}, {'nome': 'pf - pessoa fisica', 'codigo': '1900010110', 'nivel': '1', 'codigo_area': '190', 'codigo_sub_area': '1'}, {'nome': 'pj - micro empresa', 'codigo': '1900010210', 'nivel': '1', 'codigo_area': '190', 'codigo_sub_area': '1'}, {'nome': 'capitalizacao', 'codigo': '1900020070', 'nivel': '1', 'codigo_area': '190', 'codigo_sub_area': '2'}, {'nome': 'crédito', 'codigo': '1900020251', 'nivel': '1', 'codigo_area': '190', 'codigo_sub_area': '2'}, {'nome': 'credito rural', 'codigo': '1900020260', 'nivel': '1', 'codigo_area': '190', 'codigo_sub_area': '2'}, {'nome': 'fundo de investimento renda fixa', 'codigo': '1900020530', 'nivel': '1', 'codigo_area': '190', 'codigo_sub_area': '2'}, {'nome': 'previdencia aberta', 'codigo': '1900020990', 'nivel': '1', 'codigo_area': '190', 'codigo_sub_area': '2'}, {'nome': 'seguro de vida', 'codigo': '1900021130', 'nivel': '1', 'codigo_area': '190', 'codigo_sub_area': '2'}, {'nome': 'agencia', 'codigo': '1900030010', 'nivel': '1', 'codigo_area': '190', 'codigo_sub_area': '3'}, {'nome': 'acordo de trabalho - acompanhamento', 'codigo': '1900040010', 'nivel': '1', 'codigo_area': '190', 'codigo_sub_area': '4'}, {'nome': 'prevencao e combate a lavagem de dinheiro', 'codigo': '1900050030', 'nivel': '3', 'codigo_area': '190', 'codigo_sub_area': '5'}, {'nome': 'clientes - atualizacao cadastral', 'codigo': '1900050110', 'nivel': '1', 'codigo_area': '190', 'codigo_sub_area': '5'}, {'nome': 'psicologia do trabalho e organizacional', 'codigo': '1950800009', 'nivel': '1', 'codigo_area': '195', 'codigo_sub_area': '80'}, {'nome': 'orientacao profissional', 'codigo': '1950800020', 'nivel': '1', 'codigo_area': '195', 'codigo_sub_area': '80'}, {'nome': 'psiquiatria', 'codigo': '2083200010', 'nivel': '1', 'codigo_area': '208', 'codigo_sub_area': '320'}, {'nome': 'educacao fisica', 'codigo': '2084700001', 'nivel': '1', 'codigo_area': '208', 'codigo_sub_area': '470'}, {'nome': 'nutricao', 'codigo': '2085020001', 'nivel': '1', 'codigo_area': '208', 'codigo_sub_area': '502'}, {'nome': 'seguranca do trabalho', 'codigo': '2085060009', 'nivel': '1', 'codigo_area': '208', 'codigo_sub_area': '506'}, {'nome': 'conhecendo o cliente', 'codigo': '4002000001', 'nivel': '1', 'codigo_area': '400', 'codigo_sub_area': '200'}], 'ferramenta': [], 'interesse': [], 'motivacao': [], 'realizacao': [], 'formacao_superior': [{'nome': 'espec direito penal e processu', 'codigo': '1775', 'nivel': '4', 'data_fim': '2016-04-01', 'modalidade': '1', 'natureza': '2', 'url': '', 'estado': '3', 'nome_instituicao_ensino': 'banco do brasil s a'}, {'nome': 'bacharel em direito', 'codigo': '1940201', 'nivel': '4', 'data_fim': '2019-08-01', 'modalidade': '1', 'natureza': '2', 'url': '', 'estado': '3', 'nome_instituicao_ensino': 'associacao educativa do brasil'}, {'nome': 'licenciatura em historia', 'codigo': '3641050', 'nivel': '4', 'data_fim': '2006-09-11', 'modalidade': '9', 'natureza': '2', 'url': 'nan', 'estado': '3', 'nome_instituicao_ensino': 'banco do brasil s a'}, {'nome': 'licenciatura em filosofia', 'codigo': '3721030', 'nivel': '4', 'data_fim': 'nan', 'modalidade': '9', 'natureza': '2', 'url': 'nan', 'estado': '1', 'nome_instituicao_ensino': 'fundacao universidade de brasi'}]}}}}])",
     "output_type": "error",
     "traceback": [
      "\u001b[0;31m---------------------------------------------------------------------------\u001b[0m",
      "\u001b[0;31mBulkIndexError\u001b[0m                            Traceback (most recent call last)",
      "\u001b[0;32m<ipython-input-51-0568f2f610b8>\u001b[0m in \u001b[0;36m<module>\u001b[0;34m\u001b[0m\n\u001b[0;32m----> 1\u001b[0;31m \u001b[0mbulk\u001b[0m \u001b[0;34m=\u001b[0m \u001b[0melastic_bulk_index\u001b[0m\u001b[0;34m(\u001b[0m\u001b[0mindex\u001b[0m\u001b[0;34m=\u001b[0m\u001b[0mes_index\u001b[0m\u001b[0;34m,\u001b[0m \u001b[0mdocType\u001b[0m\u001b[0;34m=\u001b[0m\u001b[0mes_doc_type\u001b[0m\u001b[0;34m,\u001b[0m \u001b[0mdata\u001b[0m\u001b[0;34m=\u001b[0m\u001b[0mobj\u001b[0m\u001b[0;34m,\u001b[0m \u001b[0m_id_key\u001b[0m\u001b[0;34m=\u001b[0m\u001b[0mes_id_key\u001b[0m\u001b[0;34m,\u001b[0m \u001b[0melastic\u001b[0m\u001b[0;34m=\u001b[0m\u001b[0mes\u001b[0m\u001b[0;34m)\u001b[0m\u001b[0;34m\u001b[0m\u001b[0;34m\u001b[0m\u001b[0m\n\u001b[0m",
      "\u001b[0;32m<ipython-input-3-07eec28613c2>\u001b[0m in \u001b[0;36melastic_bulk_index\u001b[0;34m(index, docType, data, elastic, _id_key)\u001b[0m\n\u001b[1;32m     57\u001b[0m         \u001b[0mk\u001b[0m \u001b[0;34m=\u001b[0m \u001b[0mreg\u001b[0m\u001b[0;34m[\u001b[0m\u001b[0m_id_key\u001b[0m\u001b[0;34m]\u001b[0m\u001b[0;34m\u001b[0m\u001b[0;34m\u001b[0m\u001b[0m\n\u001b[1;32m     58\u001b[0m         \u001b[0mbulk\u001b[0m\u001b[0;34m.\u001b[0m\u001b[0mappend\u001b[0m\u001b[0;34m(\u001b[0m\u001b[0;34m{\u001b[0m\u001b[0;34m\"_index\"\u001b[0m\u001b[0;34m:\u001b[0m \u001b[0mindex\u001b[0m\u001b[0;34m,\u001b[0m \u001b[0;34m\"_type\"\u001b[0m\u001b[0;34m:\u001b[0m \u001b[0mdocType\u001b[0m\u001b[0;34m,\u001b[0m \u001b[0;34m\"_id\"\u001b[0m\u001b[0;34m:\u001b[0m \u001b[0mk\u001b[0m\u001b[0;34m,\u001b[0m \u001b[0;34m\"_source\"\u001b[0m\u001b[0;34m:\u001b[0m \u001b[0mreg\u001b[0m\u001b[0;34m}\u001b[0m\u001b[0;34m)\u001b[0m\u001b[0;34m\u001b[0m\u001b[0;34m\u001b[0m\u001b[0m\n\u001b[0;32m---> 59\u001b[0;31m     \u001b[0;32mreturn\u001b[0m \u001b[0mhelpers\u001b[0m\u001b[0;34m.\u001b[0m\u001b[0mbulk\u001b[0m\u001b[0;34m(\u001b[0m\u001b[0mclient\u001b[0m\u001b[0;34m=\u001b[0m\u001b[0melastic\u001b[0m\u001b[0;34m,\u001b[0m \u001b[0mactions\u001b[0m\u001b[0;34m=\u001b[0m\u001b[0mbulk\u001b[0m\u001b[0;34m)\u001b[0m\u001b[0;34m[\u001b[0m\u001b[0;36m0\u001b[0m\u001b[0;34m]\u001b[0m\u001b[0;34m\u001b[0m\u001b[0;34m\u001b[0m\u001b[0m\n\u001b[0m\u001b[1;32m     60\u001b[0m \u001b[0;34m\u001b[0m\u001b[0m\n\u001b[1;32m     61\u001b[0m \u001b[0;32mdef\u001b[0m \u001b[0msentRate\u001b[0m\u001b[0;34m(\u001b[0m\u001b[0mtotal\u001b[0m\u001b[0;34m:\u001b[0m \u001b[0mint\u001b[0m\u001b[0;34m,\u001b[0m \u001b[0mgood\u001b[0m\u001b[0;34m:\u001b[0m \u001b[0mint\u001b[0m\u001b[0;34m)\u001b[0m\u001b[0;34m:\u001b[0m\u001b[0;34m\u001b[0m\u001b[0;34m\u001b[0m\u001b[0m\n",
      "\u001b[0;32m~/.local/lib/python3.6/site-packages/elasticsearch/helpers/actions.py\u001b[0m in \u001b[0;36mbulk\u001b[0;34m(client, actions, stats_only, *args, **kwargs)\u001b[0m\n\u001b[1;32m    298\u001b[0m     \u001b[0;31m# make streaming_bulk yield successful results so we can count them\u001b[0m\u001b[0;34m\u001b[0m\u001b[0;34m\u001b[0m\u001b[0;34m\u001b[0m\u001b[0m\n\u001b[1;32m    299\u001b[0m     \u001b[0mkwargs\u001b[0m\u001b[0;34m[\u001b[0m\u001b[0;34m\"yield_ok\"\u001b[0m\u001b[0;34m]\u001b[0m \u001b[0;34m=\u001b[0m \u001b[0;32mTrue\u001b[0m\u001b[0;34m\u001b[0m\u001b[0;34m\u001b[0m\u001b[0m\n\u001b[0;32m--> 300\u001b[0;31m     \u001b[0;32mfor\u001b[0m \u001b[0mok\u001b[0m\u001b[0;34m,\u001b[0m \u001b[0mitem\u001b[0m \u001b[0;32min\u001b[0m \u001b[0mstreaming_bulk\u001b[0m\u001b[0;34m(\u001b[0m\u001b[0mclient\u001b[0m\u001b[0;34m,\u001b[0m \u001b[0mactions\u001b[0m\u001b[0;34m,\u001b[0m \u001b[0;34m*\u001b[0m\u001b[0margs\u001b[0m\u001b[0;34m,\u001b[0m \u001b[0;34m**\u001b[0m\u001b[0mkwargs\u001b[0m\u001b[0;34m)\u001b[0m\u001b[0;34m:\u001b[0m\u001b[0;34m\u001b[0m\u001b[0;34m\u001b[0m\u001b[0m\n\u001b[0m\u001b[1;32m    301\u001b[0m         \u001b[0;31m# go through request-response pairs and detect failures\u001b[0m\u001b[0;34m\u001b[0m\u001b[0;34m\u001b[0m\u001b[0;34m\u001b[0m\u001b[0m\n\u001b[1;32m    302\u001b[0m         \u001b[0;32mif\u001b[0m \u001b[0;32mnot\u001b[0m \u001b[0mok\u001b[0m\u001b[0;34m:\u001b[0m\u001b[0;34m\u001b[0m\u001b[0;34m\u001b[0m\u001b[0m\n",
      "\u001b[0;32m~/.local/lib/python3.6/site-packages/elasticsearch/helpers/actions.py\u001b[0m in \u001b[0;36mstreaming_bulk\u001b[0;34m(client, actions, chunk_size, max_chunk_bytes, raise_on_error, expand_action_callback, raise_on_exception, max_retries, initial_backoff, max_backoff, yield_ok, *args, **kwargs)\u001b[0m\n\u001b[1;32m    228\u001b[0m                         \u001b[0mraise_on_error\u001b[0m\u001b[0;34m,\u001b[0m\u001b[0;34m\u001b[0m\u001b[0;34m\u001b[0m\u001b[0m\n\u001b[1;32m    229\u001b[0m                         \u001b[0;34m*\u001b[0m\u001b[0margs\u001b[0m\u001b[0;34m,\u001b[0m\u001b[0;34m\u001b[0m\u001b[0;34m\u001b[0m\u001b[0m\n\u001b[0;32m--> 230\u001b[0;31m                         \u001b[0;34m**\u001b[0m\u001b[0mkwargs\u001b[0m\u001b[0;34m\u001b[0m\u001b[0;34m\u001b[0m\u001b[0m\n\u001b[0m\u001b[1;32m    231\u001b[0m                     ),\n\u001b[1;32m    232\u001b[0m                 ):\n",
      "\u001b[0;32m~/.local/lib/python3.6/site-packages/elasticsearch/helpers/actions.py\u001b[0m in \u001b[0;36m_process_bulk_chunk\u001b[0;34m(client, bulk_actions, bulk_data, raise_on_exception, raise_on_error, *args, **kwargs)\u001b[0m\n\u001b[1;32m    156\u001b[0m \u001b[0;34m\u001b[0m\u001b[0m\n\u001b[1;32m    157\u001b[0m     \u001b[0;32mif\u001b[0m \u001b[0merrors\u001b[0m\u001b[0;34m:\u001b[0m\u001b[0;34m\u001b[0m\u001b[0;34m\u001b[0m\u001b[0m\n\u001b[0;32m--> 158\u001b[0;31m         \u001b[0;32mraise\u001b[0m \u001b[0mBulkIndexError\u001b[0m\u001b[0;34m(\u001b[0m\u001b[0;34m\"%i document(s) failed to index.\"\u001b[0m \u001b[0;34m%\u001b[0m \u001b[0mlen\u001b[0m\u001b[0;34m(\u001b[0m\u001b[0merrors\u001b[0m\u001b[0;34m)\u001b[0m\u001b[0;34m,\u001b[0m \u001b[0merrors\u001b[0m\u001b[0;34m)\u001b[0m\u001b[0;34m\u001b[0m\u001b[0;34m\u001b[0m\u001b[0m\n\u001b[0m\u001b[1;32m    159\u001b[0m \u001b[0;34m\u001b[0m\u001b[0m\n\u001b[1;32m    160\u001b[0m \u001b[0;34m\u001b[0m\u001b[0m\n",
      "\u001b[0;31mBulkIndexError\u001b[0m: ('1 document(s) failed to index.', [{'index': {'_index': 'people_analytics', '_type': 'curriculo', '_id': '2384107', 'status': 400, 'error': {'type': 'mapper_parsing_exception', 'reason': \"failed to parse field [curriculo.formacao_superior.data_fim] of type [date] in document with id '2384107'. Preview of field's value: 'nan'\", 'caused_by': {'type': 'illegal_argument_exception', 'reason': 'failed to parse date field [nan] with format [strict_date_optional_time||epoch_millis]', 'caused_by': {'type': 'date_time_parse_exception', 'reason': 'Failed to parse with all enclosed parsers'}}}, 'data': {'matricula': '2384107', 'curriculo': {'capacidade': [], 'conhecimento': [{'nome': 'teoria geral da administração', 'codigo': '100010001', 'nivel': '1', 'codigo_area': '10', 'codigo_sub_area': '1'}, {'nome': 'empreendedorismo', 'codigo': '100010003', 'nivel': '1', 'codigo_area': '10', 'codigo_sub_area': '1'}, {'nome': 'gestao empresarial', 'codigo': '100010004', 'nivel': '3', 'codigo_area': '10', 'codigo_sub_area': '1'}, {'nome': 'gestao empresarial', 'codigo': '100010010', 'nivel': '1', 'codigo_area': '10', 'codigo_sub_area': '1'}, {'nome': 'conformidade e controles internos', 'codigo': '100010021', 'nivel': '3', 'codigo_area': '10', 'codigo_sub_area': '1'}, {'nome': 'cronoanalise', 'codigo': '100010035', 'nivel': '1', 'codigo_area': '10', 'codigo_sub_area': '1'}, {'nome': 'atendimento bancario', 'codigo': '100010040', 'nivel': '5', 'codigo_area': '10', 'codigo_sub_area': '1'}, {'nome': 'gestão financeira', 'codigo': '100600010', 'nivel': '1', 'codigo_area': '10', 'codigo_sub_area': '60'}, {'nome': 'credito e cobranca', 'codigo': '100600020', 'nivel': '1', 'codigo_area': '10', 'codigo_sub_area': '60'}, {'nome': 'gestão do crédito', 'codigo': '100600030', 'nivel': '3', 'codigo_area': '10', 'codigo_sub_area': '60'}, {'nome': 'gestao de risco', 'codigo': '100600041', 'nivel': '1', 'codigo_area': '10', 'codigo_sub_area': '60'}, {'nome': 'investimentos financeiros', 'codigo': '100600120', 'nivel': '1', 'codigo_area': '10', 'codigo_sub_area': '60'}, {'nome': 'informacao cadastral', 'codigo': '100900020', 'nivel': '1', 'codigo_area': '10', 'codigo_sub_area': '90'}, {'nome': 'fundamentos em gestão de pessoas', 'codigo': '101000001', 'nivel': '1', 'codigo_area': '10', 'codigo_sub_area': '100'}, {'nome': 'gestão de pessoas', 'codigo': '101000002', 'nivel': '1', 'codigo_area': '10', 'codigo_sub_area': '100'}, {'nome': 'treinamento e desenvolvimento', 'codigo': '101000010', 'nivel': '1', 'codigo_area': '10', 'codigo_sub_area': '100'}, {'nome': 'avaliacao de desempenho', 'codigo': '101000030', 'nivel': '1', 'codigo_area': '10', 'codigo_sub_area': '100'}, {'nome': 'estilo de gestao', 'codigo': '101000070', 'nivel': '1', 'codigo_area': '10', 'codigo_sub_area': '100'}, {'nome': 'relacoes humanas', 'codigo': '101000090', 'nivel': '1', 'codigo_area': '10', 'codigo_sub_area': '100'}, {'nome': 'cultura organizacional', 'codigo': '101000091', 'nivel': '1', 'codigo_area': '10', 'codigo_sub_area': '100'}, {'nome': 'gestao empresarial em lideranca', 'codigo': '101000100', 'nivel': '1', 'codigo_area': '10', 'codigo_sub_area': '100'}, {'nome': 'responsabilidade socioambiental', 'codigo': '101100010', 'nivel': '1', 'codigo_area': '10', 'codigo_sub_area': '110'}, {'nome': 'adm. publica', 'codigo': '101600010', 'nivel': '3', 'codigo_area': '10', 'codigo_sub_area': '160'}, {'nome': 'negociacao e vendas', 'codigo': '102000181', 'nivel': '1', 'codigo_area': '10', 'codigo_sub_area': '200'}, {'nome': 'comportamento do consumidor', 'codigo': '102000230', 'nivel': '1', 'codigo_area': '10', 'codigo_sub_area': '200'}, {'nome': 'gestao pela excelencia', 'codigo': '102400012', 'nivel': '1', 'codigo_area': '10', 'codigo_sub_area': '240'}, {'nome': 'estrategia, estrutura e funcionamento do b.b.', 'codigo': '102800001', 'nivel': '1', 'codigo_area': '10', 'codigo_sub_area': '280'}, {'nome': 'gestao empresarial', 'codigo': '102800010', 'nivel': '1', 'codigo_area': '10', 'codigo_sub_area': '280'}, {'nome': 'seguranca bancaria', 'codigo': '103000001', 'nivel': '1', 'codigo_area': '10', 'codigo_sub_area': '300'}, {'nome': 'gestão de segurança', 'codigo': '103000002', 'nivel': '3', 'codigo_area': '10', 'codigo_sub_area': '300'}, {'nome': 'grafoscopia', 'codigo': '103000006', 'nivel': '1', 'codigo_area': '10', 'codigo_sub_area': '300'}, {'nome': 'seguranca patrimonial', 'codigo': '103000020', 'nivel': '1', 'codigo_area': '10', 'codigo_sub_area': '300'}, {'nome': 'ciencia da informacao', 'codigo': '250100010', 'nivel': '1', 'codigo_area': '25', 'codigo_sub_area': '10'}, {'nome': 'filosofia', 'codigo': '500200010', 'nivel': '1', 'codigo_area': '50', 'codigo_sub_area': '20'}, {'nome': 'historia', 'codigo': '500400000', 'nivel': '1', 'codigo_area': '50', 'codigo_sub_area': '40'}, {'nome': 'estudos sociais', 'codigo': '500700001', 'nivel': '1', 'codigo_area': '50', 'codigo_sub_area': '70'}, {'nome': 'desenvolvimento regional sustentavel', 'codigo': '501400001', 'nivel': '1', 'codigo_area': '50', 'codigo_sub_area': '140'}, {'nome': 'comunicacao', 'codigo': '700010001', 'nivel': '1', 'codigo_area': '70', 'codigo_sub_area': '1'}, {'nome': 'comunicacao escrita e revisao gramatical', 'codigo': '700010007', 'nivel': '1', 'codigo_area': '70', 'codigo_sub_area': '1'}, {'nome': 'lingua de sinais - libras', 'codigo': '700010015', 'nivel': '1', 'codigo_area': '70', 'codigo_sub_area': '1'}, {'nome': 'cerimonial, etiqueta e protocolo', 'codigo': '701800020', 'nivel': '1', 'codigo_area': '70', 'codigo_sub_area': '180'}, {'nome': 'direito', 'codigo': '900010001', 'nivel': '1', 'codigo_area': '90', 'codigo_sub_area': '1'}, {'nome': 'conhecimentos juridicos', 'codigo': '900010003', 'nivel': '3', 'codigo_area': '90', 'codigo_sub_area': '1'}, {'nome': 'direito tributario', 'codigo': '901400010', 'nivel': '1', 'codigo_area': '90', 'codigo_sub_area': '140'}, {'nome': 'direito penal', 'codigo': '901800000', 'nivel': '1', 'codigo_area': '90', 'codigo_sub_area': '180'}, {'nome': 'economia - microeconomia', 'codigo': '1000010010', 'nivel': '1', 'codigo_area': '100', 'codigo_sub_area': '1'}, {'nome': 'economia e finanças', 'codigo': '1000200010', 'nivel': '1', 'codigo_area': '100', 'codigo_sub_area': '20'}, {'nome': 'educacao empresarial', 'codigo': '1100010001', 'nivel': '1', 'codigo_area': '110', 'codigo_sub_area': '1'}, {'nome': 'armazenamento de dados, conceitos', 'codigo': '1600100010', 'nivel': '1', 'codigo_area': '160', 'codigo_sub_area': '10'}, {'nome': 'bi - business inteligence', 'codigo': '1600500030', 'nivel': '1', 'codigo_area': '160', 'codigo_sub_area': '50'}, {'nome': 'ciencia da computacao', 'codigo': '1601100010', 'nivel': '1', 'codigo_area': '160', 'codigo_sub_area': '110'}, {'nome': 'logica de programacao', 'codigo': '1601300040', 'nivel': '1', 'codigo_area': '160', 'codigo_sub_area': '130'}, {'nome': 'gerenciadores de bancos de dados, instal.e admin.', 'codigo': '1601900220', 'nivel': '1', 'codigo_area': '160', 'codigo_sub_area': '190'}, {'nome': 'itil - it infrastructure library', 'codigo': '1602500040', 'nivel': '1', 'codigo_area': '160', 'codigo_sub_area': '250'}, {'nome': 'gestao de projetos em tecnologia da informacao', 'codigo': '1602600000', 'nivel': '1', 'codigo_area': '160', 'codigo_sub_area': '260'}, {'nome': 'informatica construcao aplicativos', 'codigo': '1602900014', 'nivel': '1', 'codigo_area': '160', 'codigo_sub_area': '290'}, {'nome': 'informatica infraestrutura', 'codigo': '1602900015', 'nivel': '1', 'codigo_area': '160', 'codigo_sub_area': '290'}, {'nome': 'linguagem cobol', 'codigo': '1603200090', 'nivel': '1', 'codigo_area': '160', 'codigo_sub_area': '320'}, {'nome': 'linguagem jcl', 'codigo': '1603200190', 'nivel': '1', 'codigo_area': '160', 'codigo_sub_area': '320'}, {'nome': 'linguagem sql', 'codigo': '1603200350', 'nivel': '1', 'codigo_area': '160', 'codigo_sub_area': '320'}, {'nome': 'excel', 'codigo': '1608000050', 'nivel': '1', 'codigo_area': '160', 'codigo_sub_area': '800'}, {'nome': 'matematica financeira', 'codigo': '1800400010', 'nivel': '1', 'codigo_area': '180', 'codigo_sub_area': '40'}, {'nome': 'pf - pessoa fisica', 'codigo': '1900010110', 'nivel': '1', 'codigo_area': '190', 'codigo_sub_area': '1'}, {'nome': 'pj - micro empresa', 'codigo': '1900010210', 'nivel': '1', 'codigo_area': '190', 'codigo_sub_area': '1'}, {'nome': 'capitalizacao', 'codigo': '1900020070', 'nivel': '1', 'codigo_area': '190', 'codigo_sub_area': '2'}, {'nome': 'crédito', 'codigo': '1900020251', 'nivel': '1', 'codigo_area': '190', 'codigo_sub_area': '2'}, {'nome': 'credito rural', 'codigo': '1900020260', 'nivel': '1', 'codigo_area': '190', 'codigo_sub_area': '2'}, {'nome': 'fundo de investimento renda fixa', 'codigo': '1900020530', 'nivel': '1', 'codigo_area': '190', 'codigo_sub_area': '2'}, {'nome': 'previdencia aberta', 'codigo': '1900020990', 'nivel': '1', 'codigo_area': '190', 'codigo_sub_area': '2'}, {'nome': 'seguro de vida', 'codigo': '1900021130', 'nivel': '1', 'codigo_area': '190', 'codigo_sub_area': '2'}, {'nome': 'agencia', 'codigo': '1900030010', 'nivel': '1', 'codigo_area': '190', 'codigo_sub_area': '3'}, {'nome': 'acordo de trabalho - acompanhamento', 'codigo': '1900040010', 'nivel': '1', 'codigo_area': '190', 'codigo_sub_area': '4'}, {'nome': 'prevencao e combate a lavagem de dinheiro', 'codigo': '1900050030', 'nivel': '3', 'codigo_area': '190', 'codigo_sub_area': '5'}, {'nome': 'clientes - atualizacao cadastral', 'codigo': '1900050110', 'nivel': '1', 'codigo_area': '190', 'codigo_sub_area': '5'}, {'nome': 'psicologia do trabalho e organizacional', 'codigo': '1950800009', 'nivel': '1', 'codigo_area': '195', 'codigo_sub_area': '80'}, {'nome': 'orientacao profissional', 'codigo': '1950800020', 'nivel': '1', 'codigo_area': '195', 'codigo_sub_area': '80'}, {'nome': 'psiquiatria', 'codigo': '2083200010', 'nivel': '1', 'codigo_area': '208', 'codigo_sub_area': '320'}, {'nome': 'educacao fisica', 'codigo': '2084700001', 'nivel': '1', 'codigo_area': '208', 'codigo_sub_area': '470'}, {'nome': 'nutricao', 'codigo': '2085020001', 'nivel': '1', 'codigo_area': '208', 'codigo_sub_area': '502'}, {'nome': 'seguranca do trabalho', 'codigo': '2085060009', 'nivel': '1', 'codigo_area': '208', 'codigo_sub_area': '506'}, {'nome': 'conhecendo o cliente', 'codigo': '4002000001', 'nivel': '1', 'codigo_area': '400', 'codigo_sub_area': '200'}], 'ferramenta': [], 'interesse': [], 'motivacao': [], 'realizacao': [], 'formacao_superior': [{'nome': 'espec direito penal e processu', 'codigo': '1775', 'nivel': '4', 'data_fim': '2016-04-01', 'modalidade': '1', 'natureza': '2', 'url': '', 'estado': '3', 'nome_instituicao_ensino': 'banco do brasil s a'}, {'nome': 'bacharel em direito', 'codigo': '1940201', 'nivel': '4', 'data_fim': '2019-08-01', 'modalidade': '1', 'natureza': '2', 'url': '', 'estado': '3', 'nome_instituicao_ensino': 'associacao educativa do brasil'}, {'nome': 'licenciatura em historia', 'codigo': '3641050', 'nivel': '4', 'data_fim': '2006-09-11', 'modalidade': '9', 'natureza': '2', 'url': 'nan', 'estado': '3', 'nome_instituicao_ensino': 'banco do brasil s a'}, {'nome': 'licenciatura em filosofia', 'codigo': '3721030', 'nivel': '4', 'data_fim': 'nan', 'modalidade': '9', 'natureza': '2', 'url': 'nan', 'estado': '1', 'nome_instituicao_ensino': 'fundacao universidade de brasi'}]}}}}])"
     ]
    }
   ],
   "source": [
    "bulk = elastic_bulk_index(index=es_index, docType=es_doc_type, data=obj, _id_key=es_id_key, elastic=es)"
   ]
  },
  {
   "cell_type": "code",
   "execution_count": 35,
   "metadata": {},
   "outputs": [],
   "source": [
    "sr = sentRate(total=len(obj), good=bulk)\n",
    "# logger.info('Runtime: {} seconds'.format(time()-ts1))\n",
    "# logger.info('END PROCESS')"
   ]
  },
  {
   "cell_type": "code",
   "execution_count": 40,
   "metadata": {
    "scrolled": true
   },
   "outputs": [],
   "source": [
    "err = [data for data in obj if data['matricula'] == '2384107']"
   ]
  },
  {
   "cell_type": "code",
   "execution_count": 50,
   "metadata": {},
   "outputs": [
    {
     "data": {
      "text/plain": [
       "[{'nome': 'espec direito penal e processu',\n",
       "  'codigo': '1775',\n",
       "  'nivel': '4',\n",
       "  'data_fim': '2016-04-01',\n",
       "  'modalidade': '1',\n",
       "  'natureza': '2',\n",
       "  'url': '',\n",
       "  'estado': '3',\n",
       "  'nome_instituicao_ensino': 'banco do brasil s a'},\n",
       " {'nome': 'bacharel em direito',\n",
       "  'codigo': '1940201',\n",
       "  'nivel': '4',\n",
       "  'data_fim': '2019-08-01',\n",
       "  'modalidade': '1',\n",
       "  'natureza': '2',\n",
       "  'url': '',\n",
       "  'estado': '3',\n",
       "  'nome_instituicao_ensino': 'associacao educativa do brasil'},\n",
       " {'nome': 'licenciatura em historia',\n",
       "  'codigo': '3641050',\n",
       "  'nivel': '4',\n",
       "  'data_fim': '2006-09-11',\n",
       "  'modalidade': '9',\n",
       "  'natureza': '2',\n",
       "  'url': 'nan',\n",
       "  'estado': '3',\n",
       "  'nome_instituicao_ensino': 'banco do brasil s a'},\n",
       " {'nome': 'licenciatura em filosofia',\n",
       "  'codigo': '3721030',\n",
       "  'nivel': '4',\n",
       "  'data_fim': 'nan',\n",
       "  'modalidade': '9',\n",
       "  'natureza': '2',\n",
       "  'url': 'nan',\n",
       "  'estado': '1',\n",
       "  'nome_instituicao_ensino': 'fundacao universidade de brasi'}]"
      ]
     },
     "execution_count": 50,
     "metadata": {},
     "output_type": "execute_result"
    }
   ],
   "source": [
    "err[0]['curriculo']['formacao_superior']"
   ]
  },
  {
   "cell_type": "code",
   "execution_count": null,
   "metadata": {},
   "outputs": [],
   "source": []
  },
  {
   "cell_type": "code",
   "execution_count": null,
   "metadata": {},
   "outputs": [],
   "source": []
  },
  {
   "cell_type": "code",
   "execution_count": null,
   "metadata": {},
   "outputs": [],
   "source": []
  },
  {
   "cell_type": "code",
   "execution_count": null,
   "metadata": {},
   "outputs": [],
   "source": []
  },
  {
   "cell_type": "code",
   "execution_count": null,
   "metadata": {},
   "outputs": [],
   "source": []
  },
  {
   "cell_type": "code",
   "execution_count": null,
   "metadata": {},
   "outputs": [],
   "source": []
  },
  {
   "cell_type": "code",
   "execution_count": null,
   "metadata": {},
   "outputs": [],
   "source": []
  },
  {
   "cell_type": "code",
   "execution_count": null,
   "metadata": {},
   "outputs": [],
   "source": []
  },
  {
   "cell_type": "code",
   "execution_count": null,
   "metadata": {},
   "outputs": [],
   "source": []
  }
 ],
 "metadata": {
  "kernelspec": {
   "display_name": "Python 3",
   "language": "python",
   "name": "python3"
  },
  "language_info": {
   "codemirror_mode": {
    "name": "ipython",
    "version": 3
   },
   "file_extension": ".py",
   "mimetype": "text/x-python",
   "name": "python",
   "nbconvert_exporter": "python",
   "pygments_lexer": "ipython3",
   "version": "3.6.8"
  }
 },
 "nbformat": 4,
 "nbformat_minor": 2
}
