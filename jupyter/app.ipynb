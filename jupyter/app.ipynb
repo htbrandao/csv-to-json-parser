{
 "cells": [
  {
   "cell_type": "code",
   "execution_count": 3,
   "metadata": {},
   "outputs": [],
   "source": [
    "import json\n",
    "import os\n",
    "import logging\n",
    "from time import sleep, time\n",
    "import pandas as pd\n",
    "import csv\n",
    "from elasticsearch import Elasticsearch, ElasticsearchException, helpers"
   ]
  },
  {
   "cell_type": "code",
   "execution_count": 2,
   "metadata": {},
   "outputs": [],
   "source": [
    "# ==================================================================== #\n",
    "# functions\n",
    "# ==================================================================== #\n",
    "\n",
    "def logger(name: str):\n",
    "    logger = logging.getLogger(name)\n",
    "    logger.setLevel(logging.INFO)\n",
    "    handler = logging.StreamHandler()\n",
    "    formatter = logging.Formatter('%(levelname)s %(asctime)s %(name)s %(message)s')\n",
    "    handler.setFormatter(formatter)\n",
    "    logger.addHandler(handler)\n",
    "    return logger\n",
    "\n",
    "def load_csv(filepath: str, delimiter: str, header='infer', encoding='utf-8'):\n",
    "    return pd.read_csv(filepath, delimiter=delimiter, header=header, encoding=encoding)   \n",
    "\n",
    "def find_ids(df, id_column: str):\n",
    "    return list(set(df[id_column]))\n",
    "\n",
    "def id_count(df, id_column: str):\n",
    "    return len(list(set(df[id_column])))\n",
    "\n",
    "def single_id_df(df, id_column: str, id_value: any):\n",
    "    return df[df[id_column] == id_value]\n",
    "\n",
    "def extract_features_by_category(single_id_df, category: str, related_features: list):\n",
    "    lc = [ [str(reg[i]).rstrip().lower() for i in range(len(reg)) ] \n",
    "          for reg in single_id_df[single_id_df['TIPO'] == category][related_features].values ]\n",
    "    related_features = [feat.lower() for feat in related_features]\n",
    "    out = []\n",
    "    for reg in lc:\n",
    "        out.append(dict(zip(related_features, reg)))\n",
    "    category_key = category.lower()\n",
    "    category_dict = {category_key: out}\n",
    "    return category_dict\n",
    "\n",
    "def curriculum_json_generator(df, field_map: dict, id_column: str, outter_key: str):\n",
    "    id_list = find_ids(df=df, id_column=id_column)\n",
    "    logger.info('Found \\'{}\\' units on \\'{}\\' to process'.format(len(id_list), id_column))\n",
    "    out = []\n",
    "    for f_id in id_list:\n",
    "        f_info = {'matricula': str(f_id), outter_key: {} }\n",
    "        f_df = single_id_df(df=df, id_column=id_column, id_value=f_id)\n",
    "        for key in field_map.keys():\n",
    "            try:\n",
    "                f_info[outter_key][key.lower()] = extract_features_by_category(single_id_df=f_df, category=key, related_features=field_map[key])[key.lower()]\n",
    "            except:\n",
    "                logger.error('id: \\'{}\\' key: \\'{}\\''.format(f_id, key))\n",
    "        out.append(f_info)\n",
    "    logger.info('Generated: \\'{}\\'. Delta: \\'{}\\''.format(len(out), len(out)-len(id_list)))\n",
    "    return out\n",
    "\n",
    "def elastic_bulk_index (index: str, docType: str, data: list, elastic, _id_key: str):\n",
    "    bulk = []\n",
    "    for reg in data:\n",
    "        k = reg[_id_key]\n",
    "        bulk.append({\"_index\": index, \"_type\": docType, \"_id\": k, \"_source\": reg})\n",
    "    return helpers.bulk(client=elastic, actions=bulk)[0]\n",
    "\n",
    "def sentRate(total: int, good: int):\n",
    "    acc = 100.0 - ( (total - good)/total)\n",
    "    logger.info('Delivery rate {}%'.format(acc))\n",
    "    return acc"
   ]
  },
  {
   "cell_type": "code",
   "execution_count": 3,
   "metadata": {},
   "outputs": [],
   "source": [
    "# ==================================================================== #\n",
    "# global variables\n",
    "# ==================================================================== #\n",
    "\n",
    "loggername = 'people_analytics'\n",
    "\n",
    "csv_file = '/home/f4119597/Downloads/peopleAnalytics/ListaGeralDitec-VRS20191001/QueryDB2TAO-GERAL-DITEC-VRS20191001.csv'\n",
    "csv_file_delimiter = ';'\n",
    "csv_reader_encoding = 'cp1252'\n",
    "\n",
    "elastic_hosts = ['localhost:9200']\n",
    "es_index = 'people_analytics'\n",
    "es_doc_type = 'curriculo'\n",
    "es_id_key = 'matricula'\n",
    "\n",
    "mapping = {\n",
    "    'CAPACIDADE': ['NOME', 'ATIVO', 'CODIGO'],\n",
    "    'CONHECIMENTO': ['NOME', 'CODIGO', 'NIVEL', 'CODIGO_AREA', 'CODIGO_SUB_AREA'],\n",
    "    'FERRAMENTA': ['NOME', 'CODIGO', 'ATIVO'],\n",
    "    'INTERESSE': ['NOME', 'CODIGO'],\n",
    "    'MOTIVACAO': ['NOME', 'CODIGO'],\n",
    "    'REALIZACAO': ['NOME', 'CODIGO'],\n",
    "    'FORMACAO_SUPERIOR': ['NOME',\n",
    "    'CODIGO', 'NIVEL', 'DATA_FIM', 'MODALIDADE', 'NATUREZA', 'URL', 'ESTADO', 'NOME_INSTITUICAO_ENSINO']\n",
    "    }\n",
    "\n",
    "id_column = 'MATRICULA_FUNCIONARIO'\n",
    "outter_key = 'curriculo'"
   ]
  },
  {
   "cell_type": "code",
   "execution_count": 6,
   "metadata": {},
   "outputs": [
    {
     "name": "stdout",
     "output_type": "stream",
     "text": [
      "{\r\n",
      "    \"loggername\" : \"people_analytics\",\r\n",
      "    \r\n",
      "    \"csv_file\" : \"/home/f4119597/Downloads/peopleAnalytics/ListaGeralDitec-VRS20191001/QueryDB2TAO-GERAL-DITEC-VRS20191001.csv\",\r\n",
      "    \"csv_file_delimiter\" : \";\",\r\n",
      "    \"csv_reader_encoding\" : \"cp1252\",\r\n",
      "\r\n",
      "    \"elastic_hosts\" : [\"localhost:9200\"],\r\n",
      "    \"es_index\" : \"people_analytics\",\r\n",
      "    \"es_doc_type\" : \"curriculo\",\r\n",
      "    \"es_id_key\" : \"matricula\",\r\n",
      "\r\n",
      "    \"id_column\" : \"MATRICULA_FUNCIONARIO\",\r\n",
      "    \r\n",
      "    \"outter_key\" : \"curriculo\",\r\n",
      "\r\n",
      "    \"mapping\" : {\r\n",
      "        \"CAPACIDADE\": [\"NOME\", \"ATIVO\", \"CODIGO\"],\r\n",
      "        \"CONHECIMENTO\": [\"NOME\", \"CODIGO\", \"NIVEL\", \"CODIGO_AREA\", \"CODIGO_SUB_AREA\"],\r\n",
      "        \"FERRAMENTA\": [\"NOME\", \"CODIGO\", \"ATIVO\"],\r\n",
      "        \"INTERESSE\": [\"NOME\", \"CODIGO\"],\r\n",
      "        \"MOTIVACAO\": [\"NOME\", \"CODIGO\"],\r\n",
      "        \"REALIZACAO\": [\"NOME\", \"CODIGO\"],\r\n",
      "        \"FORMACAO_SUPERIOR\": [\"NOME\", \"CODIGO\", \"NIVEL\", \"DATA_FIM\", \"MODALIDADE\", \"NATUREZA\", \"URL\", \"ESTADO\", \"NOME_INSTITUICAO_ENSINO\"]\r\n",
      "    }\r\n",
      "    \r\n",
      "}"
     ]
    }
   ],
   "source": [
    "j"
   ]
  },
  {
   "cell_type": "code",
   "execution_count": null,
   "metadata": {},
   "outputs": [],
   "source": []
  },
  {
   "cell_type": "code",
   "execution_count": null,
   "metadata": {},
   "outputs": [],
   "source": []
  },
  {
   "cell_type": "code",
   "execution_count": null,
   "metadata": {},
   "outputs": [],
   "source": []
  },
  {
   "cell_type": "code",
   "execution_count": null,
   "metadata": {},
   "outputs": [],
   "source": [
    "# logger = logger(loggername)\n",
    "# logger.info('START PROCESS')\n",
    "# ts1 = time()\n",
    "# es = Elasticsearch(hosts=elastic_hosts)\n",
    "# df = load_csv(filepath=csv_file, delimiter=csv_file_delimiter, header='infer', encoding=csv_reader_encoding)\n",
    "# obj = curriculum_json_generator(df=df, field_map=mapping, id_column=id_column, outter_key=outter_key)\n",
    "# bulk = elastic_bulk_index(index=es_index, docType=es_doc_type, data=obj, _id_key=es_id_key, elastic=es)\n",
    "# sr = sentRate(total=len(obj), good=bulk)\n",
    "# logger.info('Runtime: {} seconds'.format(time()-ts1))\n",
    "# logger.info('END PROCESS')"
   ]
  }
 ],
 "metadata": {
  "kernelspec": {
   "display_name": "Python 3",
   "language": "python",
   "name": "python3"
  },
  "language_info": {
   "codemirror_mode": {
    "name": "ipython",
    "version": 3
   },
   "file_extension": ".py",
   "mimetype": "text/x-python",
   "name": "python",
   "nbconvert_exporter": "python",
   "pygments_lexer": "ipython3",
   "version": "3.6.8"
  }
 },
 "nbformat": 4,
 "nbformat_minor": 2
}
