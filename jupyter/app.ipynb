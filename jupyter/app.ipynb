{
 "cells": [
  {
   "cell_type": "code",
   "execution_count": 2,
   "metadata": {},
   "outputs": [
    {
     "name": "stderr",
     "output_type": "stream",
     "text": [
      "/usr/lib/python3/dist-packages/requests/__init__.py:80: RequestsDependencyWarning: urllib3 (1.25.6) or chardet (3.0.4) doesn't match a supported version!\n",
      "  RequestsDependencyWarning)\n"
     ]
    }
   ],
   "source": [
    "import json\n",
    "import os\n",
    "import logging\n",
    "from time import sleep, time\n",
    "import pandas as pd\n",
    "import csv\n",
    "from elasticsearch import Elasticsearch, ElasticsearchException, helpers"
   ]
  },
  {
   "cell_type": "code",
   "execution_count": 78,
   "metadata": {},
   "outputs": [],
   "source": [
    "# ==================================================================== #\n",
    "# functions\n",
    "# ==================================================================== #\n",
    "\n",
    "def logger(name: str):\n",
    "    logger = logging.getLogger(name)\n",
    "    logger.setLevel(logging.INFO)\n",
    "    handler = logging.StreamHandler()\n",
    "    formatter = logging.Formatter('%(levelname)s %(asctime)s %(name)s %(message)s')\n",
    "    handler.setFormatter(formatter)\n",
    "    logger.addHandler(handler)\n",
    "    return logger\n",
    "\n",
    "def load_csv(filepath: str, delimiter: str, header='infer', encoding='utf-8'):\n",
    "    return pd.read_csv(filepath, delimiter=delimiter, header=header, encoding=encoding)   \n",
    "\n",
    "def find_ids(df, id_column: str):\n",
    "    return list(set(df[id_column]))\n",
    "\n",
    "def id_count(df, id_column: str):\n",
    "    return len(list(set(df[id_column])))\n",
    "\n",
    "def single_id_df(df, id_column: str, id_value: any):\n",
    "    return df[df[id_column] == id_value]\n",
    "\n",
    "def extract_features_by_category(single_id_df, category: str, related_features: list):\n",
    "    lc = [ [str(reg[i]).rstrip().lower() for i in range(len(reg)) ] \n",
    "          for reg in single_id_df[single_id_df['TIPO'] == category][related_features].values ]\n",
    "    related_features = [feat.lower() for feat in related_features]\n",
    "    out = []\n",
    "    for reg in lc:\n",
    "        out.append(dict(zip(related_features, reg)))\n",
    "    category_key = category.lower()\n",
    "    category_dict = {category_key: out}\n",
    "    return category_dict\n",
    "\n",
    "def curriculum_json_generator(df, field_map: dict, id_column: str, outter_key: str):\n",
    "    id_list = find_ids(df=df, id_column=id_column)\n",
    "#     logger.info('Found \\'{}\\' units on \\'{}\\' to process'.format(len(id_list), id_column))\n",
    "    out = []\n",
    "    for f_id in id_list:\n",
    "        f_info = {'matricula': str(f_id), outter_key: {} }\n",
    "        f_df = single_id_df(df=df, id_column=id_column, id_value=f_id)\n",
    "        for key in field_map.keys():\n",
    "            try:\n",
    "                f_info[outter_key][key.lower()] = extract_features_by_category(single_id_df=f_df, category=key, related_features=field_map[key])[key.lower()]\n",
    "            except:\n",
    "#                 logger.error('id: \\'{}\\' key: \\'{}\\''.format(f_id, key))\n",
    "                print('error')\n",
    "        out.append(f_info)\n",
    "#     logger.info('Generated: \\'{}\\'. Delta: \\'{}\\''.format(len(out), len(out)-len(id_list)))\n",
    "    return out\n",
    "\n",
    "def elastic_bulk_index (index: str, docType: str, data: list, elastic, _id_key: str):\n",
    "    bulk = []\n",
    "    for reg in data:\n",
    "        k = reg[_id_key]\n",
    "        bulk.append({\"_index\": index, \"_type\": docType, \"_id\": k, \"_source\": reg})\n",
    "    return helpers.bulk(client=elastic, actions=bulk)[0]\n",
    "    return helpers.streaming_bulk(client=elastic, actions=bulk)\n",
    "\n",
    "def sentRate(total: int, good: int):\n",
    "    acc = 100.0 - ( (total - good)/total)\n",
    "#     logger.info('Delivery rate {}%'.format(acc))\n",
    "    return acc"
   ]
  },
  {
   "cell_type": "code",
   "execution_count": 57,
   "metadata": {},
   "outputs": [],
   "source": [
    "# ==================================================================== #\n",
    "# config variables\n",
    "# ==================================================================== #\n",
    "with open('config.json') as config_file:\n",
    "    config = json.load(config_file)\n",
    "\n",
    "loggername = config['loggername']\n",
    "\n",
    "csv_file = config['csv_file']\n",
    "csv_file_delimiter = config['csv_file_delimiter']\n",
    "csv_reader_encoding = config['csv_reader_encoding']\n",
    "\n",
    "elastic_hosts = config['elastic_hosts']\n",
    "es_index = config['es_index']\n",
    "es_doc_type = config['es_doc_type']\n",
    "es_id_key = config['es_id_key']\n",
    "\n",
    "mapping = config['mapping']\n",
    "\n",
    "id_column = config['id_column']\n",
    "outter_key = config['outter_key']"
   ]
  },
  {
   "cell_type": "code",
   "execution_count": 58,
   "metadata": {},
   "outputs": [],
   "source": [
    "# logger = logger(loggername)\n",
    "# logger.info('START PROCESS')"
   ]
  },
  {
   "cell_type": "code",
   "execution_count": 59,
   "metadata": {},
   "outputs": [],
   "source": [
    "ts1 = time()\n",
    "es = Elasticsearch(hosts=elastic_hosts)"
   ]
  },
  {
   "cell_type": "code",
   "execution_count": 60,
   "metadata": {},
   "outputs": [
    {
     "name": "stderr",
     "output_type": "stream",
     "text": [
      "/home/f4119597/.local/lib/python3.6/site-packages/IPython/core/interactiveshell.py:3249: DtypeWarning: Columns (0,2,4,5,6,7,8,11,12,14,15) have mixed types. Specify dtype option on import or set low_memory=False.\n",
      "  if (await self.run_code(code, result,  async_=asy)):\n"
     ]
    }
   ],
   "source": [
    "df = load_csv(filepath=csv_file, delimiter=csv_file_delimiter, header='infer', encoding=csv_reader_encoding)"
   ]
  },
  {
   "cell_type": "code",
   "execution_count": 61,
   "metadata": {},
   "outputs": [],
   "source": [
    "obj = curriculum_json_generator(df=df, field_map=mapping, id_column=id_column, outter_key=outter_key)"
   ]
  },
  {
   "cell_type": "code",
   "execution_count": 79,
   "metadata": {},
   "outputs": [],
   "source": [
    "bulk = elastic_bulk_index(index=es_index, docType=es_doc_type, data=obj, _id_key=es_id_key, elastic=es)"
   ]
  },
  {
   "cell_type": "code",
   "execution_count": 35,
   "metadata": {},
   "outputs": [],
   "source": [
    "sr = sentRate(total=len(obj), good=bulk)\n",
    "# logger.info('Runtime: {} seconds'.format(time()-ts1))\n",
    "# logger.info('END PROCESS')"
   ]
  },
  {
   "cell_type": "code",
   "execution_count": 40,
   "metadata": {
    "scrolled": true
   },
   "outputs": [],
   "source": [
    "err = [data for data in obj if data['matricula'] == '2384107']"
   ]
  },
  {
   "cell_type": "code",
   "execution_count": 80,
   "metadata": {},
   "outputs": [
    {
     "data": {
      "text/plain": [
       "(4144, list)"
      ]
     },
     "execution_count": 80,
     "metadata": {},
     "output_type": "execute_result"
    }
   ],
   "source": [
    "len(obj), type(obj)"
   ]
  },
  {
   "cell_type": "code",
   "execution_count": 74,
   "metadata": {},
   "outputs": [],
   "source": [
    "with open('curriculum.json', 'w') as json_file:\n",
    "    json.dump(obj, json_file)"
   ]
  },
  {
   "cell_type": "code",
   "execution_count": 83,
   "metadata": {},
   "outputs": [
    {
     "data": {
      "text/plain": [
       "{}"
      ]
     },
     "execution_count": 83,
     "metadata": {},
     "output_type": "execute_result"
    }
   ],
   "source": []
  },
  {
   "cell_type": "code",
   "execution_count": null,
   "metadata": {},
   "outputs": [],
   "source": []
  },
  {
   "cell_type": "code",
   "execution_count": null,
   "metadata": {},
   "outputs": [],
   "source": []
  },
  {
   "cell_type": "code",
   "execution_count": null,
   "metadata": {},
   "outputs": [],
   "source": []
  }
 ],
 "metadata": {
  "kernelspec": {
   "display_name": "Python 3",
   "language": "python",
   "name": "python3"
  },
  "language_info": {
   "codemirror_mode": {
    "name": "ipython",
    "version": 3
   },
   "file_extension": ".py",
   "mimetype": "text/x-python",
   "name": "python",
   "nbconvert_exporter": "python",
   "pygments_lexer": "ipython3",
   "version": "3.6.8"
  }
 },
 "nbformat": 4,
 "nbformat_minor": 2
}
