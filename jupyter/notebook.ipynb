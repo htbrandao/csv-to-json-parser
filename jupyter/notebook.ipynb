{
 "cells": [
  {
   "cell_type": "code",
   "execution_count": 7,
   "metadata": {},
   "outputs": [],
   "source": [
    "#!/usr/bin/env python3\n",
    "\n",
    "import os\n",
    "import csv\n",
    "import json\n",
    "import logging\n",
    "import pandas as pd\n",
    "from time import time\n",
    "from datetime import datetime\n",
    "from elasticsearch import Elasticsearch, ElasticsearchException, helpers\n",
    "\n",
    "# ==================================================================== #\n",
    "# functions\n",
    "# ==================================================================== #\n",
    "\n",
    "def logger(name: str):\n",
    "    log_format = '%(levelname)s %(asctime)s %(name)s %(message)s'\n",
    "    logging.basicConfig(filename='app.log', filemode='a', format=log_format)\n",
    "    logger = logging.getLogger(name)\n",
    "    logger.setLevel(logging.INFO)\n",
    "    handler = logging.StreamHandler()\n",
    "    formatter = logging.Formatter(log_format)\n",
    "    handler.setFormatter(formatter)\n",
    "    logger.addHandler(handler)\n",
    "    return logger\n",
    "\n",
    "def load_csv(filepath: str, delimiter: str, header='infer', encoding='utf-8'):\n",
    "    print('Loading {}'.format(filepath))\n",
    "    return pd.read_csv(filepath, delimiter=delimiter, header=header, encoding=encoding, dtype=object)\n",
    "\n",
    "def find_ids(df, id_column: str):\n",
    "    return list(set(df[id_column]))\n",
    "\n",
    "def id_count(df, id_column: str):\n",
    "    return len(list(set(df[id_column])))\n",
    "\n",
    "def single_id_df(df, id_column: str, id_value: any):\n",
    "    return df[df[id_column] == id_value]\n",
    "\n",
    "def extract_features_by_category(single_id_df, category: str, related_features: list, category_column: str):\n",
    "    lc = [ [str(reg[i]).rstrip().lower() for i in range(len(reg)) ] \n",
    "          for reg in single_id_df[single_id_df[category_column] == category][related_features].values ]\n",
    "    related_features = [feat.lower() for feat in related_features]\n",
    "    out = []\n",
    "    for reg in lc:\n",
    "        out.append(dict(zip(related_features, reg)))\n",
    "    category_key = category.lower()\n",
    "    category_dict = {category_key: out}\n",
    "    return category_dict\n",
    "\n",
    "def curriculum_json_generator(df, field_map: dict, id_column: str, outter_key: str, category_column: str):\n",
    "    id_list = find_ids(df=df, id_column=id_column)\n",
    "    print('Found {} units on \\'{}\\' to process'.format(len(id_list), id_column))\n",
    "    out = []\n",
    "    for f_id in id_list:\n",
    "        f_info = {'matricula': str(f_id), '@timestamp': datetime.now().strftime(\"%Y-%m-%dT%H:%M:%SZ\"), outter_key: {} }\n",
    "        f_df = single_id_df(df=df, id_column=id_column, id_value=f_id)\n",
    "        for key in field_map.keys():\n",
    "            try:\n",
    "                #\n",
    "                #\n",
    "                f_info[outter_key][key.lower()] = extract_features_by_category(single_id_df=f_df,\n",
    "                                                                                category=key,\n",
    "                                                                                category_column=category_column,\n",
    "                                                                                related_features=field_map[key])[key.lower()]\n",
    "                #\n",
    "                # f_info[outter_key][key.lower()] = parse_field(field=key.lower(), data=extract_features ...)\n",
    "                #\n",
    "            except:\n",
    "                print('id: {} key: \\'{}\\''.format(f_id, key))\n",
    "        out.append(f_info)\n",
    "    print('Generated: {}. Delta: {}'.format(len(out), len(out)-len(id_list)))\n",
    "    return out\n",
    "\n",
    "def elastic_bulk_index (index: str, docType: str, data: list, elastic, _id_key: str):\n",
    "    bulk = [{\"_index\": index, \"_type\": docType, \"_id\": reg[_id_key], \"_source\": reg} for reg in data]\n",
    "    return helpers.bulk(client=elastic, actions=bulk)[0]\n",
    "\n",
    "def sentRate(total: int, good: int):\n",
    "    acc = 100.0 - ((total - good)/total)\n",
    "    print('Delivery rate {}%'.format(acc))\n",
    "    return acc\n",
    "\n",
    "def dump_json(obj: dict, yes_or_no: str):\n",
    "    if yes_or_no.lower() == \"yes\":\n",
    "        file_name = 'dump_{}.json'.format(datetime.now()).replace(\" \", \"_\")\n",
    "        with open('dump/{}'.format(file_name), 'w') as json_file:\n",
    "            json.dump(obj, json_file)\n",
    "            print('Generated {}'.format(file_name))\n",
    "    return yes_or_no"
   ]
  },
  {
   "cell_type": "code",
   "execution_count": 12,
   "metadata": {},
   "outputs": [],
   "source": [
    "def parse_field(field: str, data: dict):\n",
    "    data[field] = {}\n",
    "    return dict"
   ]
  },
  {
   "cell_type": "code",
   "execution_count": null,
   "metadata": {},
   "outputs": [],
   "source": []
  },
  {
   "cell_type": "code",
   "execution_count": null,
   "metadata": {},
   "outputs": [],
   "source": []
  },
  {
   "cell_type": "code",
   "execution_count": null,
   "metadata": {},
   "outputs": [],
   "source": []
  },
  {
   "cell_type": "code",
   "execution_count": 8,
   "metadata": {},
   "outputs": [],
   "source": [
    "# ==================================================================== #\n",
    "# config variables\n",
    "# ==================================================================== #\n",
    "\n",
    "with open('../config.json') as config_file:\n",
    "    config = json.load(config_file)\n",
    "\n",
    "loggername = config['loggername']\n",
    "csv_files = config['csv_file']\n",
    "csv_file_delimiter = config['csv_file_delimiter']\n",
    "csv_reader_encoding = config['csv_reader_encoding']\n",
    "elastic_hosts = config['elastic_hosts']\n",
    "es_index = config['es_index']\n",
    "es_doc_type = config['es_doc_type']\n",
    "es_id_key = config['es_id_key']\n",
    "category_column = config['category_column']\n",
    "mapping = config['mapping']\n",
    "id_column = config['id_column']\n",
    "outter_key = config['outter_key']\n",
    "dump = config['dump']"
   ]
  },
  {
   "cell_type": "code",
   "execution_count": 9,
   "metadata": {},
   "outputs": [],
   "source": [
    "# ==================================================================== #\n",
    "# main\n",
    "# ==================================================================== #"
   ]
  },
  {
   "cell_type": "code",
   "execution_count": 10,
   "metadata": {},
   "outputs": [],
   "source": [
    "es = Elasticsearch(hosts=elastic_hosts)"
   ]
  },
  {
   "cell_type": "code",
   "execution_count": 11,
   "metadata": {},
   "outputs": [
    {
     "name": "stdout",
     "output_type": "stream",
     "text": [
      "Loading /home/f4119597/Downloads/Arquivos_Finais/201910031133__0000000_A_1999999.csv\n",
      "Found 645 units on 'MATRICULA_FUNCIONARIO' to process\n",
      "id: 432531 key: 'MOTIVACAO'\n",
      "Generated: 645. Delta: 0\n",
      "Loading /home/f4119597/Downloads/Arquivos_Finais/201910031134__2000000_A_5999999.csv\n",
      "Found 1305 units on 'MATRICULA_FUNCIONARIO' to process\n",
      "id: 2243159 key: 'CAPACIDADE'\n",
      "id: 2546658 key: 'CONHECIMENTO'\n",
      "Generated: 1305. Delta: 0\n",
      "Loading /home/f4119597/Downloads/Arquivos_Finais/201910031136__6000000_A_6999999.csv\n",
      "Found 616 units on 'MATRICULA_FUNCIONARIO' to process\n",
      "Generated: 616. Delta: 0\n",
      "Loading /home/f4119597/Downloads/Arquivos_Finais/201910031137__7000000_A_8999999.csv\n",
      "Found 741 units on 'MATRICULA_FUNCIONARIO' to process\n",
      "Generated: 741. Delta: 0\n",
      "Loading /home/f4119597/Downloads/Arquivos_Finais/201910031138__9000000_A_9999999.csv\n",
      "Found 447 units on 'MATRICULA_FUNCIONARIO' to process\n",
      "Generated: 447. Delta: 0\n"
     ]
    }
   ],
   "source": [
    "for csv_file in csv_files:\n",
    "    df = load_csv(filepath=csv_file, delimiter=csv_file_delimiter, header='infer', encoding=csv_reader_encoding)\n",
    "    obj = curriculum_json_generator(df=df, field_map=mapping, id_column=id_column, outter_key=outter_key, category_column=category_column)\n",
    "    # bulk = elastic_bulk_index(index=es_index, docType=es_doc_type, data=obj, _id_key=es_id_key, elastic=es)\n",
    "    # sr = sentRate(total=len(obj), good=bulk)\n",
    "    # dump_json(obj=obj, yes_or_no=dump)"
   ]
  },
  {
   "cell_type": "code",
   "execution_count": null,
   "metadata": {},
   "outputs": [],
   "source": []
  }
 ],
 "metadata": {
  "kernelspec": {
   "display_name": "Python 3",
   "language": "python",
   "name": "python3"
  },
  "language_info": {
   "codemirror_mode": {
    "name": "ipython",
    "version": 3
   },
   "file_extension": ".py",
   "mimetype": "text/x-python",
   "name": "python",
   "nbconvert_exporter": "python",
   "pygments_lexer": "ipython3",
   "version": "3.6.8"
  }
 },
 "nbformat": 4,
 "nbformat_minor": 2
}
